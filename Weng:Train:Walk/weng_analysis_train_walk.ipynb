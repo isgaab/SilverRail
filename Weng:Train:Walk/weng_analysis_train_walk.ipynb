{
 "cells": [
  {
   "cell_type": "code",
   "execution_count": 1,
   "metadata": {},
   "outputs": [],
   "source": [
    "import math\n",
    "import pickle\n",
    "import numpy as np\n",
    "import pandas as pd\n",
    "import seaborn as sns\n",
    "import matplotlib.pyplot as plt\n",
    "from sklearn.ensemble import RandomForestClassifier, GradientBoostingClassifier\n",
    "from sklearn.metrics import average_precision_score, precision_recall_curve, classification_report\n",
    "\n",
    "import pprint\n",
    "pp = pprint.PrettyPrinter(indent=4)"
   ]
  },
  {
   "cell_type": "markdown",
   "metadata": {},
   "source": [
    "# Build and Merge Dataset\n",
    "\n",
    "There are 12 datasets given as part of the challenge.\n",
    "For validation purpose, datasets 1 - 11 are used as train data and dataset 12 is used as test data.\n",
    "\n",
    "As this approach will make use of all 3 sensors readings, aggregation of data needs to be done.\n",
    "After discussion with Silver Rail representative, 1 second is a reasonable interval to tolerate error that may\n",
    "appear within it because the recorded reading interval is set at 5ms.\n",
    "\n",
    "Datasets are merged on rounded 'TI' column and combined by taking the mean of values within the interval."
   ]
  },
  {
   "cell_type": "markdown",
   "metadata": {},
   "source": [
    "# Merging script\n",
    "\n",
    "#========================================================================================================\n",
    "\n",
    "#For assigning mode value when merging by TI\n",
    "\n",
    "def conv(num):\n",
    "    return 0 if num < 0.5 else 1\n",
    "\n",
    "nfiles = 10\n",
    "\n",
    "for nfile in range(1, nfiles+1):\n",
    "    print(nfile)\n",
    "    df_acc = pd.read_csv(f\"./data/dataset{nfile}/Accelerometer.csv\")\n",
    "    df_gyr = pd.read_csv(f\"./data/dataset{nfile}/Gyroscope.csv\")\n",
    "    df_mag = pd.read_csv(f\"./data/dataset{nfile}/Magnetometer.csv\")\n",
    "\n",
    "    df_acc = df_acc[df_acc['mode'] != 'Bus']\n",
    "    df_gyr= df_gyr[df_gyr['mode'] != 'Bus']\n",
    "    df_mag = df_mag[df_mag['mode'] != 'Bus']\n",
    "\n",
    "    df_acc.dropna(inplace=True)\n",
    "    df_gyr.dropna(inplace=True)\n",
    "    df_mag.dropna(inplace=True)\n",
    "\n",
    "    df_acc = df_acc.drop(columns=[\"TS\"]).replace({'mode': {'Train': 1, 'Walking': 0}})\n",
    "    df_gyr = df_gyr.drop(columns=[\"TS\"]).replace({'mode': {'Train': 1, 'Walking': 0}})\n",
    "    df_mag = df_mag.drop(columns=[\"TS\"]).replace({'mode': {'Train': 1, 'Walking': 0}})\n",
    "\n",
    "    df_acc['TI'] = df_acc['TI'].apply(lambda x: math.floor(x))\n",
    "    df_gyr['TI'] = df_gyr['TI'].apply(lambda x: math.floor(x))\n",
    "    df_mag['TI'] = df_mag['TI'].apply(lambda x: math.floor(x))\n",
    "\n",
    "    merged_df = df_acc.merge(df_gyr.merge(df_mag, on=['TI']), on=['TI'])\n",
    "    merged_df.columns = ['TI', 'acc_x', 'acc_y', 'acc_z', 'acc_mode', 'gyr_x', 'gyr_y', 'gyr_z', 'gyr_mode', \\\n",
    "                         'mag_x', 'mag_y', 'mag_z', 'mag_mode']\n",
    "    merged_df['mode'] = merged_df[['acc_mode', 'gyr_mode', 'mag_mode']].mean(axis=1)\n",
    "\n",
    "    merged_df = merged_df.groupby(['TI'], as_index=False).mean()\n",
    "\n",
    "    print(merged_df['mode'].unique())\n",
    "    merged_df['mode'] = merged_df[['acc_mode', 'gyr_mode', 'mag_mode']].mean(axis=1)\n",
    "    merged_df['mode'] = merged_df['mode'].apply(lambda x: conv(x))\n",
    "    print(merged_df['mode'].unique())\n",
    "\n",
    "    merged_df.drop(columns=['TI', 'acc_mode', 'gyr_mode', 'mag_mode'], inplace=True)\n",
    "\n",
    "    merged_df.to_csv(f\"./datamerged_df{nfile}.csv\", index=False)\n",
    "    \n",
    "    gc.collect()\n",
    "    print(\"=================================\")"
   ]
  },
  {
   "cell_type": "markdown",
   "metadata": {},
   "source": [
    "The files are later concatenated after merging accelerometer, gyroscope and magnetometer into a single file."
   ]
  },
  {
   "cell_type": "markdown",
   "metadata": {},
   "source": [
    "#========================================================================================================\n",
    "\n",
    "df_merge1 = pd.read_csv(\"./data/merged_df1.csv\")\n",
    "df_merge2 = pd.read_csv(\"./data/merged_df2.csv\")\n",
    "df_merge3 = pd.read_csv(\"./data/merged_df3.csv\")\n",
    "df_merge4 = pd.read_csv(\"./data/merged_df4.csv\")\n",
    "df_merge5 = pd.read_csv(\"./data/merged_df5.csv\")\n",
    "df_merge6 = pd.read_csv(\"./data/merged_df6.csv\")\n",
    "df_merge7 = pd.read_csv(\"./data/merged_df7.csv\")\n",
    "df_merge8 = pd.read_csv(\"./data/merged_df8.csv\")\n",
    "df_merge9 = pd.read_csv(\"./data/merged_df9.csv\")\n",
    "df_merge10 = pd.read_csv(\"./data/merged_df10.csv\")\n",
    "df_merge11_1 = pd.read_csv(\"./data/merged_df11_1.csv\")\n",
    "df_merge11_2 = pd.read_csv(\"./data/merged_df11_2.csv\")\n",
    "\n",
    "\n",
    "df_res = pd.concat([df_merge1, df_merge2, df_merge3, df_merge4, df_merge5, df_merge6, df_merge7, df_merge8, df_merge9, df_merge10])\n",
    "df_res.to_csv(\"./data/clean_merged_1_11_0.5.csv\", index=False)"
   ]
  },
  {
   "cell_type": "markdown",
   "metadata": {},
   "source": [
    "# Reading in merged data"
   ]
  },
  {
   "cell_type": "code",
   "execution_count": 2,
   "metadata": {},
   "outputs": [],
   "source": [
    "train_df = pd.read_csv(\"./data/clean_merged_1_11_0.5.csv\")"
   ]
  },
  {
   "cell_type": "code",
   "execution_count": 3,
   "metadata": {},
   "outputs": [
    {
     "data": {
      "text/html": [
       "<div>\n",
       "<style scoped>\n",
       "    .dataframe tbody tr th:only-of-type {\n",
       "        vertical-align: middle;\n",
       "    }\n",
       "\n",
       "    .dataframe tbody tr th {\n",
       "        vertical-align: top;\n",
       "    }\n",
       "\n",
       "    .dataframe thead th {\n",
       "        text-align: right;\n",
       "    }\n",
       "</style>\n",
       "<table border=\"1\" class=\"dataframe\">\n",
       "  <thead>\n",
       "    <tr style=\"text-align: right;\">\n",
       "      <th></th>\n",
       "      <th>acc_x</th>\n",
       "      <th>acc_y</th>\n",
       "      <th>acc_z</th>\n",
       "      <th>gyr_x</th>\n",
       "      <th>gyr_y</th>\n",
       "      <th>gyr_z</th>\n",
       "      <th>mag_x</th>\n",
       "      <th>mag_y</th>\n",
       "      <th>mag_z</th>\n",
       "      <th>mode</th>\n",
       "    </tr>\n",
       "  </thead>\n",
       "  <tbody>\n",
       "    <tr>\n",
       "      <th>0</th>\n",
       "      <td>0.192784</td>\n",
       "      <td>-0.480037</td>\n",
       "      <td>-0.839129</td>\n",
       "      <td>-0.474434</td>\n",
       "      <td>-0.268126</td>\n",
       "      <td>0.283632</td>\n",
       "      <td>127.769066</td>\n",
       "      <td>12.484465</td>\n",
       "      <td>-772.170809</td>\n",
       "      <td>1</td>\n",
       "    </tr>\n",
       "    <tr>\n",
       "      <th>1</th>\n",
       "      <td>-0.078466</td>\n",
       "      <td>-0.026469</td>\n",
       "      <td>-0.996841</td>\n",
       "      <td>-0.111714</td>\n",
       "      <td>-0.246666</td>\n",
       "      <td>-0.244131</td>\n",
       "      <td>100.514932</td>\n",
       "      <td>29.385223</td>\n",
       "      <td>-775.509803</td>\n",
       "      <td>1</td>\n",
       "    </tr>\n",
       "    <tr>\n",
       "      <th>2</th>\n",
       "      <td>-0.051055</td>\n",
       "      <td>-0.108133</td>\n",
       "      <td>-0.997823</td>\n",
       "      <td>0.081890</td>\n",
       "      <td>0.113779</td>\n",
       "      <td>-0.092978</td>\n",
       "      <td>96.297213</td>\n",
       "      <td>34.125927</td>\n",
       "      <td>-770.516082</td>\n",
       "      <td>1</td>\n",
       "    </tr>\n",
       "    <tr>\n",
       "      <th>3</th>\n",
       "      <td>-0.010501</td>\n",
       "      <td>-0.128384</td>\n",
       "      <td>-1.008556</td>\n",
       "      <td>0.020765</td>\n",
       "      <td>-0.093513</td>\n",
       "      <td>0.003766</td>\n",
       "      <td>97.242038</td>\n",
       "      <td>34.374825</td>\n",
       "      <td>-770.246047</td>\n",
       "      <td>1</td>\n",
       "    </tr>\n",
       "    <tr>\n",
       "      <th>4</th>\n",
       "      <td>-0.011499</td>\n",
       "      <td>-0.128213</td>\n",
       "      <td>-1.016252</td>\n",
       "      <td>0.022095</td>\n",
       "      <td>-0.094202</td>\n",
       "      <td>0.004144</td>\n",
       "      <td>97.645691</td>\n",
       "      <td>34.346363</td>\n",
       "      <td>-770.386385</td>\n",
       "      <td>1</td>\n",
       "    </tr>\n",
       "  </tbody>\n",
       "</table>\n",
       "</div>"
      ],
      "text/plain": [
       "      acc_x     acc_y     acc_z     gyr_x     gyr_y     gyr_z       mag_x  \\\n",
       "0  0.192784 -0.480037 -0.839129 -0.474434 -0.268126  0.283632  127.769066   \n",
       "1 -0.078466 -0.026469 -0.996841 -0.111714 -0.246666 -0.244131  100.514932   \n",
       "2 -0.051055 -0.108133 -0.997823  0.081890  0.113779 -0.092978   96.297213   \n",
       "3 -0.010501 -0.128384 -1.008556  0.020765 -0.093513  0.003766   97.242038   \n",
       "4 -0.011499 -0.128213 -1.016252  0.022095 -0.094202  0.004144   97.645691   \n",
       "\n",
       "       mag_y       mag_z  mode  \n",
       "0  12.484465 -772.170809     1  \n",
       "1  29.385223 -775.509803     1  \n",
       "2  34.125927 -770.516082     1  \n",
       "3  34.374825 -770.246047     1  \n",
       "4  34.346363 -770.386385     1  "
      ]
     },
     "execution_count": 3,
     "metadata": {},
     "output_type": "execute_result"
    }
   ],
   "source": [
    "train_df.head()"
   ]
  },
  {
   "cell_type": "markdown",
   "metadata": {},
   "source": [
    "# Data Exploration\n",
    "\n",
    "Scatter plots between features and mode are important.\n",
    "\n",
    "The following plots if indicate much overlap between both feature (readings) of mode 0 and 1, is bad because\n",
    "it is harder to discriminate mode by using the feature.\n",
    "\n",
    "Aggregated values seem to alleviate slightly the problem of overlap but there are much to be done.\n",
    "\n",
    "Interestingly enough Accelerometer and Gyroscope seems to be biased towards 'Walk' (wider range) whereas \n",
    "Magnetometer is biased towards 'Train'. \n",
    "\n",
    "It maybe intuitive to see that when a person is walking, the movement tend to be stronger and less likely \n",
    "to make a huge change of orientation (tend to walk straight) as indicated by high dependence on Accelerometer\n",
    "and less so on Magnetometer.\n",
    "\n",
    "For the case for being on a train, it will be the other way round and high dependence on Magnetometer might have\n",
    "been an evidence for this hypothesis."
   ]
  },
  {
   "cell_type": "markdown",
   "metadata": {},
   "source": [
    "## Overlap between readings of mode 0 and 1"
   ]
  },
  {
   "cell_type": "code",
   "execution_count": 4,
   "metadata": {},
   "outputs": [
    {
     "data": {
      "text/plain": [
       "array([[<matplotlib.axes._subplots.AxesSubplot object at 0x7f424875c198>],\n",
       "       [<matplotlib.axes._subplots.AxesSubplot object at 0x7f424871e2b0>],\n",
       "       [<matplotlib.axes._subplots.AxesSubplot object at 0x7f42486c4940>]],\n",
       "      dtype=object)"
      ]
     },
     "execution_count": 4,
     "metadata": {},
     "output_type": "execute_result"
    },
    {
     "data": {
      "image/png": "[encoded data removed]",
      "text/plain": [
       "<Figure size 432x288 with 1 Axes>"
      ]
     },
     "metadata": {},
     "output_type": "display_data"
    },
    {
     "data": {
      "image/png": "[encoded data removed]",
      "text/plain": [
       "<Figure size 432x288 with 2 Axes>"
      ]
     },
     "metadata": {},
     "output_type": "display_data"
    },
    {
     "data": {
      "image/png": "[encoded data removed]",
      "text/plain": [
       "<Figure size 432x288 with 3 Axes>"
      ]
     },
     "metadata": {},
     "output_type": "display_data"
    }
   ],
   "source": [
    "train_df.plot(x='acc_x', y='mode', kind='scatter',subplots=True, layout=(1,1))\n",
    "train_df.plot(x='acc_y', y='mode', kind='scatter',subplots=True, layout=(2,1))\n",
    "train_df.plot(x='acc_z', y='mode', kind='scatter',subplots=True, layout=(3,1))"
   ]
  },
  {
   "cell_type": "code",
   "execution_count": 5,
   "metadata": {},
   "outputs": [
    {
     "data": {
      "text/plain": [
       "array([[<matplotlib.axes._subplots.AxesSubplot object at 0x7f42464e5908>],\n",
       "       [<matplotlib.axes._subplots.AxesSubplot object at 0x7f424650f7b8>],\n",
       "       [<matplotlib.axes._subplots.AxesSubplot object at 0x7f42464b8c18>]],\n",
       "      dtype=object)"
      ]
     },
     "execution_count": 5,
     "metadata": {},
     "output_type": "execute_result"
    },
    {
     "data": {
      "image/png": "[encoded data removed]",
      "text/plain": [
       "<Figure size 432x288 with 1 Axes>"
      ]
     },
     "metadata": {},
     "output_type": "display_data"
    },
    {
     "data": {
      "image/png": "[encoded data removed]",
      "text/plain": [
       "<Figure size 432x288 with 2 Axes>"
      ]
     },
     "metadata": {},
     "output_type": "display_data"
    },
    {
     "data": {
      "image/png": "[encoded data removed]",
      "text/plain": [
       "<Figure size 432x288 with 3 Axes>"
      ]
     },
     "metadata": {},
     "output_type": "display_data"
    }
   ],
   "source": [
    "train_df.plot(x='gyr_x', y='mode', kind='scatter',subplots=True, layout=(1,1))\n",
    "train_df.plot(x='gyr_y', y='mode', kind='scatter',subplots=True, layout=(2,1))\n",
    "train_df.plot(x='gyr_z', y='mode', kind='scatter',subplots=True, layout=(3,1))"
   ]
  },
  {
   "cell_type": "code",
   "execution_count": 6,
   "metadata": {},
   "outputs": [
    {
     "data": {
      "text/plain": [
       "array([[<matplotlib.axes._subplots.AxesSubplot object at 0x7f4246313a90>],\n",
       "       [<matplotlib.axes._subplots.AxesSubplot object at 0x7f424633bbe0>],\n",
       "       [<matplotlib.axes._subplots.AxesSubplot object at 0x7f42462e6fd0>]],\n",
       "      dtype=object)"
      ]
     },
     "execution_count": 6,
     "metadata": {},
     "output_type": "execute_result"
    },
    {
     "data": {
      "image/png": "[encoded data removed]",
      "text/plain": [
       "<Figure size 432x288 with 1 Axes>"
      ]
     },
     "metadata": {},
     "output_type": "display_data"
    },
    {
     "data": {
      "image/png": "[encoded data removed]",
      "text/plain": [
       "<Figure size 432x288 with 2 Axes>"
      ]
     },
     "metadata": {},
     "output_type": "display_data"
    },
    {
     "data": {
      "image/png": "[encoded data removed]",
      "text/plain": [
       "<Figure size 432x288 with 3 Axes>"
      ]
     },
     "metadata": {},
     "output_type": "display_data"
    }
   ],
   "source": [
    "train_df.plot(x='mag_x', y='mode', kind='scatter',subplots=True, layout=(1,1))\n",
    "train_df.plot(x='mag_y', y='mode', kind='scatter',subplots=True, layout=(2,1))\n",
    "train_df.plot(x='mag_z', y='mode', kind='scatter',subplots=True, layout=(3,1))"
   ]
  },
  {
   "cell_type": "markdown",
   "metadata": {},
   "source": [
    "## Pearson Coefficient (Correlation Measure)\n",
    "\n",
    "Pearson Coefficient ranges between -1 to 1.\n",
    "\n",
    "If two variables produce Pearson Coefficient of\n",
    "\n",
    "-1 : Negatively correlated\n",
    "0  : Not correlated\n",
    "1  : Positively correlated\n",
    "    \n",
    "Note that Pearson Coefficient is only great at measuring linear correlation.\n",
    "Non-linear correlation is not captured and require sophisticated algorithms."
   ]
  },
  {
   "cell_type": "code",
   "execution_count": 7,
   "metadata": {},
   "outputs": [],
   "source": [
    "h, p_coeff = list(train_df)[:-1], np.corrcoef(train_df[train_df.columns].T)[-1][:-1]"
   ]
  },
  {
   "cell_type": "code",
   "execution_count": 22,
   "metadata": {},
   "outputs": [
    {
     "name": "stdout",
     "output_type": "stream",
     "text": [
      "Feature : Pearson Coefficient between feature and mode\n",
      "[   ('acc_x', -0.05279564030281753),\n",
      "    ('acc_y', 0.1634624475364774),\n",
      "    ('acc_z', -0.39984482846970276),\n",
      "    ('gyr_x', -0.008078989334541192),\n",
      "    ('gyr_y', -0.014469707886927235),\n",
      "    ('gyr_z', -0.013270017063360008),\n",
      "    ('mag_x', -0.09362576143011761),\n",
      "    ('mag_y', 0.48030095814623236),\n",
      "    ('mag_z', -0.3930075181012833)]\n"
     ]
    }
   ],
   "source": [
    "print(\"Feature : Pearson Coefficient between feature and mode\")\n",
    "pp.pprint(list(zip(h, p_coeff)))"
   ]
  },
  {
   "cell_type": "code",
   "execution_count": 9,
   "metadata": {},
   "outputs": [],
   "source": [
    "test_df = pd.read_csv(\"./data/train_walk/merged_df12.csv\")"
   ]
  },
  {
   "cell_type": "code",
   "execution_count": 10,
   "metadata": {},
   "outputs": [
    {
     "data": {
      "text/html": [
       "<div>\n",
       "<style scoped>\n",
       "    .dataframe tbody tr th:only-of-type {\n",
       "        vertical-align: middle;\n",
       "    }\n",
       "\n",
       "    .dataframe tbody tr th {\n",
       "        vertical-align: top;\n",
       "    }\n",
       "\n",
       "    .dataframe thead th {\n",
       "        text-align: right;\n",
       "    }\n",
       "</style>\n",
       "<table border=\"1\" class=\"dataframe\">\n",
       "  <thead>\n",
       "    <tr style=\"text-align: right;\">\n",
       "      <th></th>\n",
       "      <th>acc_x</th>\n",
       "      <th>acc_y</th>\n",
       "      <th>acc_z</th>\n",
       "      <th>gyr_x</th>\n",
       "      <th>gyr_y</th>\n",
       "      <th>gyr_z</th>\n",
       "      <th>mag_x</th>\n",
       "      <th>mag_y</th>\n",
       "      <th>mag_z</th>\n",
       "      <th>mode</th>\n",
       "    </tr>\n",
       "  </thead>\n",
       "  <tbody>\n",
       "    <tr>\n",
       "      <th>0</th>\n",
       "      <td>-0.580500</td>\n",
       "      <td>-0.376912</td>\n",
       "      <td>-0.858185</td>\n",
       "      <td>0.823212</td>\n",
       "      <td>-1.272205</td>\n",
       "      <td>0.760356</td>\n",
       "      <td>88.629878</td>\n",
       "      <td>-347.511088</td>\n",
       "      <td>-323.177317</td>\n",
       "      <td>0</td>\n",
       "    </tr>\n",
       "    <tr>\n",
       "      <th>1</th>\n",
       "      <td>-0.642831</td>\n",
       "      <td>-0.447676</td>\n",
       "      <td>-0.008250</td>\n",
       "      <td>-0.581631</td>\n",
       "      <td>-1.967574</td>\n",
       "      <td>-0.177705</td>\n",
       "      <td>45.188577</td>\n",
       "      <td>-346.533356</td>\n",
       "      <td>-298.484753</td>\n",
       "      <td>0</td>\n",
       "    </tr>\n",
       "    <tr>\n",
       "      <th>2</th>\n",
       "      <td>-0.314315</td>\n",
       "      <td>-1.063927</td>\n",
       "      <td>0.219892</td>\n",
       "      <td>-0.520392</td>\n",
       "      <td>0.616227</td>\n",
       "      <td>-0.287383</td>\n",
       "      <td>57.942036</td>\n",
       "      <td>-359.657361</td>\n",
       "      <td>-285.999742</td>\n",
       "      <td>0</td>\n",
       "    </tr>\n",
       "    <tr>\n",
       "      <th>3</th>\n",
       "      <td>-0.795715</td>\n",
       "      <td>-0.616163</td>\n",
       "      <td>0.079114</td>\n",
       "      <td>0.049329</td>\n",
       "      <td>0.358394</td>\n",
       "      <td>0.319521</td>\n",
       "      <td>43.305013</td>\n",
       "      <td>-346.993262</td>\n",
       "      <td>-291.387979</td>\n",
       "      <td>0</td>\n",
       "    </tr>\n",
       "    <tr>\n",
       "      <th>4</th>\n",
       "      <td>-0.403455</td>\n",
       "      <td>-0.855800</td>\n",
       "      <td>0.079128</td>\n",
       "      <td>0.178603</td>\n",
       "      <td>-0.462796</td>\n",
       "      <td>-0.563583</td>\n",
       "      <td>62.322422</td>\n",
       "      <td>-357.947539</td>\n",
       "      <td>-292.615660</td>\n",
       "      <td>0</td>\n",
       "    </tr>\n",
       "  </tbody>\n",
       "</table>\n",
       "</div>"
      ],
      "text/plain": [
       "      acc_x     acc_y     acc_z     gyr_x     gyr_y     gyr_z      mag_x  \\\n",
       "0 -0.580500 -0.376912 -0.858185  0.823212 -1.272205  0.760356  88.629878   \n",
       "1 -0.642831 -0.447676 -0.008250 -0.581631 -1.967574 -0.177705  45.188577   \n",
       "2 -0.314315 -1.063927  0.219892 -0.520392  0.616227 -0.287383  57.942036   \n",
       "3 -0.795715 -0.616163  0.079114  0.049329  0.358394  0.319521  43.305013   \n",
       "4 -0.403455 -0.855800  0.079128  0.178603 -0.462796 -0.563583  62.322422   \n",
       "\n",
       "        mag_y       mag_z  mode  \n",
       "0 -347.511088 -323.177317     0  \n",
       "1 -346.533356 -298.484753     0  \n",
       "2 -359.657361 -285.999742     0  \n",
       "3 -346.993262 -291.387979     0  \n",
       "4 -357.947539 -292.615660     0  "
      ]
     },
     "execution_count": 10,
     "metadata": {},
     "output_type": "execute_result"
    }
   ],
   "source": [
    "test_df.head()"
   ]
  },
  {
   "cell_type": "markdown",
   "metadata": {},
   "source": [
    "# Feature Generation"
   ]
  },
  {
   "cell_type": "code",
   "execution_count": 11,
   "metadata": {},
   "outputs": [],
   "source": [
    "def gen_feat(df):\n",
    "\n",
    "    df['acc_norm'] = np.linalg.norm(df[['acc_x','acc_y','acc_z']].values,axis=1)\n",
    "    df['gyr_norm'] = np.linalg.norm(df[['gyr_x','gyr_y','gyr_z']].values,axis=1)\n",
    "    df['mag_norm'] = np.linalg.norm(df[['mag_x','mag_y','mag_z']].values,axis=1)\n",
    "    \n",
    "    df['acc_mean'] = df[['acc_x','acc_y','acc_z']].mean(axis=1)\n",
    "    df['gyr_mean'] = df[['gyr_x','gyr_y','gyr_z']].mean(axis=1)\n",
    "    df['mag_mean'] = df[['mag_x','mag_y','mag_z']].mean(axis=1)\n",
    "    \n",
    "    df['acc_median'] = df[['acc_x','acc_y','acc_z']].median(axis=1)\n",
    "    df['gyr_median'] = df[['gyr_x','gyr_y','gyr_z']].median(axis=1)\n",
    "    df['mag_median'] = df[['mag_x','mag_y','mag_z']].median(axis=1)\n",
    "    \n",
    "    df['acc_var'] = df[['acc_x','acc_y','acc_z']].var(axis=1)\n",
    "    df['gyr_var'] = df[['gyr_x','gyr_y','gyr_z']].var(axis=1)\n",
    "    df['mag_var'] = df[['mag_x','mag_y','mag_z']].var(axis=1)\n",
    "    \n",
    "    return df"
   ]
  },
  {
   "cell_type": "code",
   "execution_count": 12,
   "metadata": {},
   "outputs": [],
   "source": [
    "# Rearranging the 'model' column for convenience\n",
    "train_df = gen_feat(train_df)\n",
    "\n",
    "tmode = train_df['mode']\n",
    "train_df.drop(columns=['mode'], inplace=True)\n",
    "train_df['mode'] = tmode"
   ]
  },
  {
   "cell_type": "code",
   "execution_count": 13,
   "metadata": {},
   "outputs": [],
   "source": [
    "test_df = gen_feat(test_df)\n",
    "\n",
    "tmode = test_df['mode']\n",
    "test_df.drop(columns=['mode'], inplace=True)\n",
    "test_df['mode'] = tmode"
   ]
  },
  {
   "cell_type": "code",
   "execution_count": 14,
   "metadata": {},
   "outputs": [
    {
     "data": {
      "text/html": [
       "<div>\n",
       "<style scoped>\n",
       "    .dataframe tbody tr th:only-of-type {\n",
       "        vertical-align: middle;\n",
       "    }\n",
       "\n",
       "    .dataframe tbody tr th {\n",
       "        vertical-align: top;\n",
       "    }\n",
       "\n",
       "    .dataframe thead th {\n",
       "        text-align: right;\n",
       "    }\n",
       "</style>\n",
       "<table border=\"1\" class=\"dataframe\">\n",
       "  <thead>\n",
       "    <tr style=\"text-align: right;\">\n",
       "      <th></th>\n",
       "      <th>acc_x</th>\n",
       "      <th>acc_y</th>\n",
       "      <th>acc_z</th>\n",
       "      <th>gyr_x</th>\n",
       "      <th>gyr_y</th>\n",
       "      <th>gyr_z</th>\n",
       "      <th>mag_x</th>\n",
       "      <th>mag_y</th>\n",
       "      <th>mag_z</th>\n",
       "      <th>acc_norm</th>\n",
       "      <th>...</th>\n",
       "      <th>acc_mean</th>\n",
       "      <th>gyr_mean</th>\n",
       "      <th>mag_mean</th>\n",
       "      <th>acc_median</th>\n",
       "      <th>gyr_median</th>\n",
       "      <th>mag_median</th>\n",
       "      <th>acc_var</th>\n",
       "      <th>gyr_var</th>\n",
       "      <th>mag_var</th>\n",
       "      <th>mode</th>\n",
       "    </tr>\n",
       "  </thead>\n",
       "  <tbody>\n",
       "    <tr>\n",
       "      <th>0</th>\n",
       "      <td>0.192784</td>\n",
       "      <td>-0.480037</td>\n",
       "      <td>-0.839129</td>\n",
       "      <td>-0.474434</td>\n",
       "      <td>-0.268126</td>\n",
       "      <td>0.283632</td>\n",
       "      <td>127.769066</td>\n",
       "      <td>12.484465</td>\n",
       "      <td>-772.170809</td>\n",
       "      <td>0.985768</td>\n",
       "      <td>...</td>\n",
       "      <td>-0.375461</td>\n",
       "      <td>-0.152976</td>\n",
       "      <td>-210.639093</td>\n",
       "      <td>-0.480037</td>\n",
       "      <td>-0.268126</td>\n",
       "      <td>12.484465</td>\n",
       "      <td>0.274413</td>\n",
       "      <td>0.153611</td>\n",
       "      <td>239811.036013</td>\n",
       "      <td>1</td>\n",
       "    </tr>\n",
       "    <tr>\n",
       "      <th>1</th>\n",
       "      <td>-0.078466</td>\n",
       "      <td>-0.026469</td>\n",
       "      <td>-0.996841</td>\n",
       "      <td>-0.111714</td>\n",
       "      <td>-0.246666</td>\n",
       "      <td>-0.244131</td>\n",
       "      <td>100.514932</td>\n",
       "      <td>29.385223</td>\n",
       "      <td>-775.509803</td>\n",
       "      <td>1.000274</td>\n",
       "      <td>...</td>\n",
       "      <td>-0.367259</td>\n",
       "      <td>-0.200837</td>\n",
       "      <td>-215.203216</td>\n",
       "      <td>-0.078466</td>\n",
       "      <td>-0.244131</td>\n",
       "      <td>29.385223</td>\n",
       "      <td>0.297956</td>\n",
       "      <td>0.005959</td>\n",
       "      <td>236722.462619</td>\n",
       "      <td>1</td>\n",
       "    </tr>\n",
       "    <tr>\n",
       "      <th>2</th>\n",
       "      <td>-0.051055</td>\n",
       "      <td>-0.108133</td>\n",
       "      <td>-0.997823</td>\n",
       "      <td>0.081890</td>\n",
       "      <td>0.113779</td>\n",
       "      <td>-0.092978</td>\n",
       "      <td>96.297213</td>\n",
       "      <td>34.125927</td>\n",
       "      <td>-770.516082</td>\n",
       "      <td>1.004963</td>\n",
       "      <td>...</td>\n",
       "      <td>-0.385670</td>\n",
       "      <td>0.034230</td>\n",
       "      <td>-213.364314</td>\n",
       "      <td>-0.108133</td>\n",
       "      <td>0.081890</td>\n",
       "      <td>34.125927</td>\n",
       "      <td>0.281863</td>\n",
       "      <td>0.012391</td>\n",
       "      <td>233779.886307</td>\n",
       "      <td>1</td>\n",
       "    </tr>\n",
       "    <tr>\n",
       "      <th>3</th>\n",
       "      <td>-0.010501</td>\n",
       "      <td>-0.128384</td>\n",
       "      <td>-1.008556</td>\n",
       "      <td>0.020765</td>\n",
       "      <td>-0.093513</td>\n",
       "      <td>0.003766</td>\n",
       "      <td>97.242038</td>\n",
       "      <td>34.374825</td>\n",
       "      <td>-770.246047</td>\n",
       "      <td>1.016749</td>\n",
       "      <td>...</td>\n",
       "      <td>-0.382480</td>\n",
       "      <td>-0.022994</td>\n",
       "      <td>-212.876395</td>\n",
       "      <td>-0.128384</td>\n",
       "      <td>0.003766</td>\n",
       "      <td>34.374825</td>\n",
       "      <td>0.297452</td>\n",
       "      <td>0.003802</td>\n",
       "      <td>233983.768773</td>\n",
       "      <td>1</td>\n",
       "    </tr>\n",
       "    <tr>\n",
       "      <th>4</th>\n",
       "      <td>-0.011499</td>\n",
       "      <td>-0.128213</td>\n",
       "      <td>-1.016252</td>\n",
       "      <td>0.022095</td>\n",
       "      <td>-0.094202</td>\n",
       "      <td>0.004144</td>\n",
       "      <td>97.645691</td>\n",
       "      <td>34.346363</td>\n",
       "      <td>-770.386385</td>\n",
       "      <td>1.024373</td>\n",
       "      <td>...</td>\n",
       "      <td>-0.385321</td>\n",
       "      <td>-0.022654</td>\n",
       "      <td>-212.798110</td>\n",
       "      <td>-0.128213</td>\n",
       "      <td>0.004144</td>\n",
       "      <td>34.346363</td>\n",
       "      <td>0.301961</td>\n",
       "      <td>0.003920</td>\n",
       "      <td>234180.214555</td>\n",
       "      <td>1</td>\n",
       "    </tr>\n",
       "  </tbody>\n",
       "</table>\n",
       "<p>5 rows × 22 columns</p>\n",
       "</div>"
      ],
      "text/plain": [
       "      acc_x     acc_y     acc_z     gyr_x     gyr_y     gyr_z       mag_x  \\\n",
       "0  0.192784 -0.480037 -0.839129 -0.474434 -0.268126  0.283632  127.769066   \n",
       "1 -0.078466 -0.026469 -0.996841 -0.111714 -0.246666 -0.244131  100.514932   \n",
       "2 -0.051055 -0.108133 -0.997823  0.081890  0.113779 -0.092978   96.297213   \n",
       "3 -0.010501 -0.128384 -1.008556  0.020765 -0.093513  0.003766   97.242038   \n",
       "4 -0.011499 -0.128213 -1.016252  0.022095 -0.094202  0.004144   97.645691   \n",
       "\n",
       "       mag_y       mag_z  acc_norm  ...   acc_mean  gyr_mean    mag_mean  \\\n",
       "0  12.484465 -772.170809  0.985768  ...  -0.375461 -0.152976 -210.639093   \n",
       "1  29.385223 -775.509803  1.000274  ...  -0.367259 -0.200837 -215.203216   \n",
       "2  34.125927 -770.516082  1.004963  ...  -0.385670  0.034230 -213.364314   \n",
       "3  34.374825 -770.246047  1.016749  ...  -0.382480 -0.022994 -212.876395   \n",
       "4  34.346363 -770.386385  1.024373  ...  -0.385321 -0.022654 -212.798110   \n",
       "\n",
       "   acc_median  gyr_median  mag_median   acc_var   gyr_var        mag_var  mode  \n",
       "0   -0.480037   -0.268126   12.484465  0.274413  0.153611  239811.036013     1  \n",
       "1   -0.078466   -0.244131   29.385223  0.297956  0.005959  236722.462619     1  \n",
       "2   -0.108133    0.081890   34.125927  0.281863  0.012391  233779.886307     1  \n",
       "3   -0.128384    0.003766   34.374825  0.297452  0.003802  233983.768773     1  \n",
       "4   -0.128213    0.004144   34.346363  0.301961  0.003920  234180.214555     1  \n",
       "\n",
       "[5 rows x 22 columns]"
      ]
     },
     "execution_count": 14,
     "metadata": {},
     "output_type": "execute_result"
    }
   ],
   "source": [
    "train_df.head()"
   ]
  },
  {
   "cell_type": "code",
   "execution_count": 15,
   "metadata": {},
   "outputs": [],
   "source": [
    "train_data = train_df.values\n",
    "X_train, Y_train = train_data[:, :-1], train_data[:, -1]"
   ]
  },
  {
   "cell_type": "code",
   "execution_count": 16,
   "metadata": {},
   "outputs": [],
   "source": [
    "test_data = test_df.values\n",
    "X_test, Y_test = test_data[:, :-1], test_data[:, -1]"
   ]
  },
  {
   "cell_type": "code",
   "execution_count": 17,
   "metadata": {},
   "outputs": [],
   "source": [
    "# Shuffle the train data to ensure data does not depend on sequence\n",
    "\n",
    "train_data_shuf = train_df.values\n",
    "np.random.shuffle(train_data_shuf)\n",
    "\n",
    "X_train_shuf, Y_train_shuf = train_data_shuf[:, :-1], train_data_shuf[:, -1]\n",
    "\n",
    "# Shuffle the test data\n",
    "test_data_shuf = test_df.values\n",
    "np.random.shuffle(test_data_shuf)\n",
    "\n",
    "X_test_shuf, Y_test_shuf = test_data_shuf[:, :-1], test_data_shuf[:, -1]"
   ]
  },
  {
   "cell_type": "markdown",
   "metadata": {},
   "source": [
    "# Random Forest Classifier And Performance Evaluation\n",
    "\n",
    "Notice other than accuracy, both precision and recall with f1-score is added as part of the evaluation.\n",
    "\n",
    "A common mistake commited when making binary-class classification lies in the fact that accuracy is solely used\n",
    "as the evaluation metric.\n",
    "\n",
    "Precision refers to percentage of obtained results relevant whereas recall refers to percentage of total relevant\n",
    "results correctly classified by the algorithm.\n",
    "\n",
    "Following explanation may help to clarify any confusion.\n",
    "\n",
    "If we want to classify a fruit to be orange or apple, the following situation explains performance of classifier:\n",
    "\n",
    "If result when determing orange has \n",
    "(1) Low Precision, Low Recall\n",
    "- Classifier is performing poorly, and might be at best randomly guessing the output\n",
    "\n",
    "(2) Low Precision, High Recall\n",
    "- Classifier manages to classify many true oranges as orange but also classify significant amount of apples as true\n",
    "oranges.\n",
    "\n",
    "(3) High Precision, Low Recall\n",
    "- Classifier is very strict when classifying the fruit. It manages to classify a lot of true oranges as oranges\n",
    "but also choose NOT to classify some true oranges as oranges.\n",
    "\n",
    "(4) High Precision, High Recall\n",
    "- Best combination and ideal choice. \n",
    "\n",
    "Low Precision and Low Recall score may be defined somewhere between 0.5 - 0.7.\n",
    "Anything lower than 0.5 should be inspected as this indicates the classifier performs worst than random guess\n",
    "which is normally not a random error but faulty data collection or processing.\n",
    "\n",
    "High Precision and High Recall score may be defined somewhere between 0.7 - 0.9.\n",
    "Any value around 0.9 or higher should be treated carefully as there is a high tendency to be overfitting."
   ]
  },
  {
   "cell_type": "code",
   "execution_count": null,
   "metadata": {},
   "outputs": [],
   "source": [
    "# Grid search across range of parameters to tune Random Forest Classifier\n",
    "# Store each Random Forest Classifer object and retrieve the best performing one\n",
    "depths = (2, 5, 8, 10, 15)\n",
    "n_estimators = (10, 50, 100, 150, 200)\n",
    "\n",
    "target_names = ('Walk', 'Train')\n",
    "\n",
    "rclfs = {}\n",
    "\n",
    "for d in depths:\n",
    "    for n in n_estimators:\n",
    "        print(f\"Tree depth : {d}. n_estimators: {n}.\")\n",
    "        \n",
    "        # Create RandomForestClassifier and fit the data\n",
    "        rclf = RandomForestClassifier(n_estimators=n, max_depth=d, random_state=0)\n",
    "        rclf.fit(X_train_shuf, Y_train_shuf)\n",
    "        \n",
    "        Y_pred = rclf.predict(X_test_shuf)\n",
    "        print(f\"Accuracy is {(Y_pred == Y_test_shuf).mean()}%.\")\n",
    "        \n",
    "        average_precision = average_precision_score(Y_test_shuf, Y_pred)\n",
    "        print(average_precision)\"\n",
    "        print(classification_report(Y_test_shuf, Y_pred, target_names=target_names))\n",
    "        \n",
    "        rclfs[f'd{d}n{n}'] = rclf"
   ]
  },
  {
   "cell_type": "markdown",
   "metadata": {},
   "source": [
    "# Feature Importance"
   ]
  },
  {
   "cell_type": "markdown",
   "metadata": {},
   "source": [
    "RandomForest Classifier by default generates feature importance score which can be convenient to inspect\n",
    "the weightage of each feature carries to produce the results."
   ]
  },
  {
   "cell_type": "code",
   "execution_count": 25,
   "metadata": {},
   "outputs": [
    {
     "name": "stdout",
     "output_type": "stream",
     "text": [
      "[   ('acc_x', 0.043646621075614546),\n",
      "    ('acc_y', 0.1141890327692851),\n",
      "    ('acc_z', 0.07069741414324815),\n",
      "    ('gyr_x', 0.00128278407793011),\n",
      "    ('gyr_y', 0.004956939820610673),\n",
      "    ('gyr_z', 0.002353014479600909),\n",
      "    ('mag_x', 0.014604168928079227),\n",
      "    ('mag_y', 0.08158616979542622),\n",
      "    ('mag_z', 0.047161587524729376),\n",
      "    ('acc_norm', 0.04640629775421443),\n",
      "    ('gyr_norm', 0.15870774881341576),\n",
      "    ('mag_norm', 0.03390433542894917),\n",
      "    ('acc_mean', 0.059416443939478245),\n",
      "    ('gyr_mean', 0.004885895191431283),\n",
      "    ('mag_mean', 0.01853134927049476),\n",
      "    ('acc_median', 0.014831250031325913),\n",
      "    ('gyr_median', 0.002188239944104385),\n",
      "    ('mag_median', 0.07131075422818461),\n",
      "    ('acc_var', 0.03745922707610609),\n",
      "    ('gyr_var', 0.06872197652955765),\n",
      "    ('mag_var', 0.10315874917821358)]\n"
     ]
    }
   ],
   "source": [
    "tdf_h = list(train_df)[:-1]\n",
    "pp.pprint(list(zip(tdf_h, rclf.feature_importances_)))"
   ]
  },
  {
   "cell_type": "markdown",
   "metadata": {},
   "source": [
    "# Results \n",
    "\n",
    "Tree depth : 5. n_estimators: 150.\n",
    "\n",
    "Accuracy is 0.8508711991800478 or 85.08%.\n",
    "\n",
    "Average precision score is 0.8330248206874856.\n",
    "              \n",
    "                precision    recall  f1-score   support\n",
    "\n",
    "        Walk       0.88      0.66      0.75      2001\n",
    "       Train       0.84      0.95      0.89      3853\n",
    "\n",
    "   micro avg       0.85      0.85      0.85      5854\n",
    "\n",
    "   macro avg       0.86      0.80      0.82      5854\n",
    "    \n",
    "weighted avg       0.85      0.85      0.84      5854"
   ]
  },
  {
   "cell_type": "markdown",
   "metadata": {},
   "source": [
    "# Conclusion\n",
    "\n",
    "Our classifier produces high precision and high recall on Train which is great.\n",
    "\n",
    "However, it has high precision and low recall in Walk. The strong correlation of Walk in accelerometer readings\n",
    "indicate we can take advantage of this. Either more data can be gathered to further improve the accuracy or\n",
    "some noise filtering method can be applied on the data itself."
   ]
  }
 ],
 "metadata": {
  "kernelspec": {
   "display_name": "Python 3",
   "language": "python",
   "name": "python3"
  },
  "language_info": {
   "codemirror_mode": {
    "name": "ipython",
    "version": 3
   },
   "file_extension": ".py",
   "mimetype": "text/x-python",
   "name": "python",
   "nbconvert_exporter": "python",
   "pygments_lexer": "ipython3",
   "version": "3.6.6"
  }
 },
 "nbformat": 4,
 "nbformat_minor": 2
}
