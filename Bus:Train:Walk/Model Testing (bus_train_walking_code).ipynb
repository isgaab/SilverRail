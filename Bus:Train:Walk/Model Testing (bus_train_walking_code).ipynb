{
 "cells": [
  {
   "cell_type": "markdown",
   "metadata": {},
   "source": [
    "# Packages"
   ]
  },
  {
   "cell_type": "code",
   "execution_count": 1,
   "metadata": {},
   "outputs": [],
   "source": [
    "import warnings\n",
    "warnings.filterwarnings('ignore')\n",
    "import os\n",
    "import shutil\n",
    "\n",
    "import numpy as np\n",
    "import pandas as pd\n",
    "import math\n",
    "import itertools\n",
    "\n",
    "# Visualisation\n",
    "import matplotlib as mpl\n",
    "import matplotlib.pyplot as plt\n",
    "import matplotlib.pylab as pylab\n",
    "import seaborn as sns\n",
    "\n",
    "# SKLearn\n",
    "import sklearn\n",
    "from sklearn.model_selection import train_test_split\n",
    "from sklearn.model_selection import GridSearchCV\n",
    "from sklearn.preprocessing import LabelEncoder\n",
    "from sklearn.model_selection import KFold\n",
    "from sklearn.model_selection import cross_val_score\n",
    "from sklearn.pipeline import Pipeline\n",
    "from sklearn import svm, datasets\n",
    "from sklearn.metrics import confusion_matrix\n",
    "from sklearn.neighbors import KNeighborsClassifier\n",
    "import pickle"
   ]
  },
  {
   "cell_type": "markdown",
   "metadata": {},
   "source": [
    "# Data Cleaning"
   ]
  },
  {
   "cell_type": "code",
   "execution_count": 2,
   "metadata": {},
   "outputs": [],
   "source": [
    "#THIS IS THE IMPUT BY THE USER\n",
    "new_df_acc=pd.read_csv(\"acc_test_4.csv\")\n",
    "\n",
    "\n",
    "#Cleaning functions\n",
    "def half_int(x):\n",
    "    val=0.5 * math.ceil(2.0 * x)\n",
    "    return val\n",
    "\n",
    "\n",
    "def cleaning_tests(df_acc):\n",
    "    # Rename df_acc column, 'train' -> 'mode'\n",
    "    df_acc.columns = ['TI', 'TS', 'x', 'y', 'z', 'mode']\n",
    "\n",
    "    # Drop TS column and replace transportation mode into integer\n",
    "    df_acc = df_acc.drop(columns=[\"TS\"]).replace({'mode': {'Bus':2,'Train': 1, 'Walking': 0}})\n",
    "\n",
    "    # Convert TI value to integer\n",
    "    df_acc['TI'] = df_acc['TI'].apply(lambda x: half_int(x))\n",
    "\n",
    "\n",
    "    # Group by and get mean by TI as key\n",
    "    ndf_acc = df_acc.groupby(['TI'], as_index=False)[['x', 'y', 'z', 'mode']].mean()\n",
    "\n",
    "\n",
    "    # Clean filtered data\n",
    "    ndf_acc.columns = ['TI', 'acc_x', 'acc_y', 'acc_z', 'mode']\n",
    "    \n",
    "    return ndf_acc\n",
    "\n",
    "#TEST FILE IN CSV FORMAT\n",
    "new_df=cleaning_tests(new_df_acc)\n",
    "\n",
    "df=new_df\n",
    "\n",
    "#Mag + Overlapping for test\n",
    "df['acc_magnitude']=(df['acc_x']**2+df['acc_y']**2+df['acc_z']**2)**(1/2.0)\n",
    "\n",
    "#Overlapping\n",
    "n=10\n",
    "o=5\n",
    "X_new=[df['acc_magnitude'].values[x:x+n] for x in range(0,len(df['acc_magnitude'])-n+1, o) if (df.iloc[x]['mode'] == df.iloc[x+n-1]['mode'])]\n",
    "X_new=np.asarray(X_new)\n",
    "\n",
    "Y_new=[df['mode'].values[x] for x in range(0,len(df['mode'])-n+1, o) if df.iloc[x]['mode'] == df.iloc[x+n-1]['mode']]\n",
    "Y_new=np.asarray(Y_new)\n",
    "\n",
    "times=[df['TI'].values[x] for x in range(0,len(df['TI'])-n+1, o) if df.iloc[x]['mode'] == df.iloc[x+n-1]['mode']]\n",
    "\n",
    "times_ref=new_df_acc\n",
    "times_ref['TI']=new_df_acc['TI'].apply(lambda x: half_int(x))\n",
    "times_ref=times_ref.loc[times_ref['TI'].isin(times)]\n",
    "times_ref=times_ref.drop_duplicates(subset='TI', keep=\"last\")['TS']"
   ]
  },
  {
   "cell_type": "markdown",
   "metadata": {},
   "source": [
    "# Loading Trained Model"
   ]
  },
  {
   "cell_type": "code",
   "execution_count": 3,
   "metadata": {},
   "outputs": [],
   "source": [
    "filename = 'bus_train_walk_model.sav'\n",
    "knn = pickle.load(open(filename, 'rb'))"
   ]
  },
  {
   "cell_type": "markdown",
   "metadata": {},
   "source": [
    "# Results"
   ]
  },
  {
   "cell_type": "code",
   "execution_count": 4,
   "metadata": {},
   "outputs": [
    {
     "data": {
      "text/plain": [
       "0.6466739367502726"
      ]
     },
     "execution_count": 4,
     "metadata": {},
     "output_type": "execute_result"
    }
   ],
   "source": [
    "#Predicting Classification with model trained\n",
    "pred_new = knn.predict(X_new)\n",
    "\n",
    "#Classification Probabilities\n",
    "probs=knn.predict_proba(X_new)\n",
    "\n",
    "#Overall Accuracy of the model\n",
    "sklearn.metrics.accuracy_score(Y_new, pred_new)"
   ]
  },
  {
   "cell_type": "markdown",
   "metadata": {},
   "source": [
    "# Confusion Matrix (Visualization)"
   ]
  },
  {
   "cell_type": "code",
   "execution_count": 5,
   "metadata": {},
   "outputs": [
    {
     "name": "stdout",
     "output_type": "stream",
     "text": [
      "Normalized confusion matrix\n",
      "[[0.03 0.96 0.01]\n",
      " [0.05 0.94 0.  ]\n",
      " [0.22 0.46 0.32]]\n"
     ]
    },
    {
     "data": {
      "image/png": "[encoded data removed]",
      "text/plain": [
       "<Figure size 432x288 with 2 Axes>"
      ]
     },
     "metadata": {
      "needs_background": "light"
     },
     "output_type": "display_data"
    }
   ],
   "source": [
    "def plot_confusion_matrix(cm, classes,\n",
    "                          normalize=False,\n",
    "                          title='Confusion matrix',\n",
    "                          cmap=plt.cm.Blues):\n",
    "    \"\"\"\n",
    "    This function prints and plots the confusion matrix.\n",
    "    Normalization can be applied by setting `normalize=True`.\n",
    "    \"\"\"\n",
    "    if normalize:\n",
    "        cm = cm.astype('float') / cm.sum(axis=1)[:, np.newaxis]\n",
    "        print(\"Normalized confusion matrix\")\n",
    "    else:\n",
    "        print('Confusion matrix, without normalization')\n",
    "\n",
    "    print(cm)\n",
    "\n",
    "\n",
    "    fmt = '.2f' if normalize else 'd'\n",
    "    thresh = cm.max() / 2.\n",
    "  \n",
    "    sns.heatmap(cm, annot=True)\n",
    "\n",
    "# Compute confusion matrix\n",
    "cnf_matrix = confusion_matrix(Y_new, pred_new)\n",
    "np.set_printoptions(precision=2)\n",
    "\n",
    "\n",
    "\n",
    "plot_confusion_matrix(cnf_matrix, normalize=True, classes=[\"Walking\", \"Train\", \"Bus\"],\n",
    "                      title='Normalized confusion matrix')\n",
    "\n",
    "plt.show()"
   ]
  },
  {
   "cell_type": "markdown",
   "metadata": {},
   "source": [
    "# Export Results as CSV Files"
   ]
  },
  {
   "cell_type": "code",
   "execution_count": 6,
   "metadata": {},
   "outputs": [],
   "source": [
    "#Saving CSV Classification\n",
    "results=np.column_stack([np.transpose(np.column_stack(times_ref)) ,np.transpose(np.column_stack(pred_new))])\n",
    "df_results=pd.DataFrame(results)\n",
    "df_results.to_csv(\"results_bus_train_walk.csv\")\n",
    "\n",
    "#Saving Probabilities\n",
    "df_probs=pd.DataFrame(probs)\n",
    "df_probs.to_csv(\"probabilities_bus_train_walk.csv\")\n",
    "                                      "
   ]
  }
 ],
 "metadata": {
  "kernelspec": {
   "display_name": "Python 3",
   "language": "python",
   "name": "python3"
  },
  "language_info": {
   "codemirror_mode": {
    "name": "ipython",
    "version": 3
   },
   "file_extension": ".py",
   "mimetype": "text/x-python",
   "name": "python",
   "nbconvert_exporter": "python",
   "pygments_lexer": "ipython3",
   "version": "3.6.0"
  }
 },
 "nbformat": 4,
 "nbformat_minor": 2
}
