{
 "cells": [
  {
   "cell_type": "markdown",
   "metadata": {},
   "source": [
    "# Packages"
   ]
  },
  {
   "cell_type": "code",
   "execution_count": 1,
   "metadata": {},
   "outputs": [],
   "source": [
    "import warnings\n",
    "warnings.filterwarnings('ignore')\n",
    "import os\n",
    "import shutil\n",
    "\n",
    "#Data Tools\n",
    "import numpy as np\n",
    "import pandas as pd\n",
    "import math\n",
    "import itertools\n",
    "\n",
    "#Model Tools\n",
    "import sklearn\n",
    "from sklearn.model_selection import train_test_split\n",
    "from sklearn.model_selection import GridSearchCV\n",
    "from sklearn.preprocessing import LabelEncoder\n",
    "from sklearn.model_selection import KFold\n",
    "from sklearn.model_selection import cross_val_score\n",
    "from sklearn.pipeline import Pipeline\n",
    "from sklearn import svm, datasets\n",
    "from sklearn.metrics import confusion_matrix\n",
    "from sklearn.neighbors import KNeighborsClassifier\n",
    "import pickle\n",
    "\n",
    "# Visualisation\n",
    "import matplotlib as mpl\n",
    "import matplotlib.pyplot as plt\n",
    "import matplotlib.pylab as pylab\n",
    "import seaborn as sns\n"
   ]
  },
  {
   "cell_type": "markdown",
   "metadata": {},
   "source": [
    "# Data Cleaning"
   ]
  },
  {
   "cell_type": "code",
   "execution_count": 2,
   "metadata": {},
   "outputs": [],
   "source": [
    "# Read in Training Data from CSV\n",
    "df_acc = pd.read_csv(\"acc_1.csv\")\n",
    "\n",
    "#Cleaning functions\n",
    "def half_int(x):\n",
    "    val=0.5 * math.ceil(2.0 * x)\n",
    "    return val\n",
    "\n",
    "\n",
    "def cleaning(df_acc):\n",
    "    # Rename df_acc column, 'train' -> 'mode'\n",
    "    df_acc.columns = ['TI', 'TS', 'x', 'y', 'z', 'mode', 'dataset']\n",
    "\n",
    "    # Drop TS column and replace transportation mode into integer\n",
    "    df_acc = df_acc.replace({'mode': {'Train': 1, 'Walking': 0}})\n",
    "\n",
    "\n",
    "    # Convert TI value to integer\n",
    "    df_acc['TI'] = df_acc['TI'].apply(lambda x: half_int(x))\n",
    "\n",
    "    # Group by and get mean by TI as key\n",
    "    ndf_acc = df_acc.groupby(['TI', 'dataset'], as_index=False)[['x', 'y', 'z', 'mode']].mean()\n",
    "\n",
    "    # Clean filtered data\n",
    "    ndf_acc.columns = ['TI', 'dataset', 'acc_x', 'acc_y', 'acc_z', 'mode']\n",
    "\n",
    "    \n",
    "    return ndf_acc\n",
    "\n",
    "df=cleaning(df_acc)\n",
    "\n",
    "\n",
    "#Magnitude dataframe\n",
    "df['acc_magnitude']=(df['acc_x']**2+df['acc_y']**2+df['acc_z']**2)**(1/2.0)\n",
    "\n",
    "#Overlapping\n",
    "n=10\n",
    "o=5\n",
    "X=[df['acc_magnitude'].values[x:x+n] for x in range(0,len(df['acc_magnitude'])-n+1, o) if (df.iloc[x]['dataset'] == df.iloc[x+n-1]['dataset'] and df.iloc[x]['mode'] == df.iloc[x+n-1]['mode'])]\n",
    "X=np.asarray(X)\n",
    "\n",
    "Y=[df['mode'].values[x] for x in range(0,len(df['mode'])-n+1, o) if df.iloc[x]['dataset'] == df.iloc[x+n-1]['dataset'] and df.iloc[x]['mode'] == df.iloc[x+n-1]['mode']]\n",
    "Y=np.asarray(Y)"
   ]
  },
  {
   "cell_type": "markdown",
   "metadata": {},
   "source": [
    "# K - Cross Validation"
   ]
  },
  {
   "cell_type": "code",
   "execution_count": 6,
   "metadata": {},
   "outputs": [
    {
     "name": "stdout",
     "output_type": "stream",
     "text": [
      "[0.7889019140258654, 0.7696376669119833, 0.8065808195357169, 0.8071054375686014, 0.8116199394226543, 0.813048737661827, 0.8135759572855825, 0.8150041331162494, 0.8128984167631677, 0.8147785688656628, 0.8128990960873314, 0.8147039471554134, 0.8129742841424594, 0.8150805093283399, 0.8144784962249242, 0.8160582356411847, 0.8164336099979612, 0.8168856431854474, 0.8168095496771792, 0.8178631434545188, 0.8156065989036341, 0.8165847216664142, 0.8149299638343596, 0.8161333110578399, 0.8136511459371321, 0.8155316940635469, 0.8123719321011876, 0.8135009401478348, 0.8108676068690315, 0.8107923060902277]\n"
     ]
    },
    {
     "data": {
      "text/plain": [
       "19"
      ]
     },
     "execution_count": 6,
     "metadata": {},
     "output_type": "execute_result"
    }
   ],
   "source": [
    "#Search for an optimal value of K for KNN\n",
    "\n",
    "# range of k we want to try\n",
    "k_range = range(1, 31)\n",
    "# empty list to store scores\n",
    "k_scores = []\n",
    "\n",
    "# 1. we will loop through reasonable values of k\n",
    "for k in k_range:\n",
    "    # 2. run KNeighborsClassifier with k neighbours\n",
    "    knn = KNeighborsClassifier(n_neighbors=k)\n",
    "    # 3. obtain cross_val_score for KNeighborsClassifier with k neighbours\n",
    "    scores = cross_val_score(knn, X, Y, cv=10, scoring='accuracy')\n",
    "    # 4. append mean of scores for k neighbors to k_scores list\n",
    "    k_scores.append(scores.mean())\n",
    "\n",
    "\n",
    "print(k_scores)\n",
    "k_scores.index(max(k_scores))"
   ]
  },
  {
   "cell_type": "markdown",
   "metadata": {},
   "source": [
    "# Model Training"
   ]
  },
  {
   "cell_type": "code",
   "execution_count": 3,
   "metadata": {},
   "outputs": [
    {
     "data": {
      "text/plain": [
       "KNeighborsClassifier(algorithm='auto', leaf_size=30, metric='minkowski',\n",
       "           metric_params=None, n_jobs=None, n_neighbors=19, p=2,\n",
       "           weights='uniform')"
      ]
     },
     "execution_count": 3,
     "metadata": {},
     "output_type": "execute_result"
    }
   ],
   "source": [
    "# Instantiate learning model (k = 19)\n",
    "knn = KNeighborsClassifier(n_neighbors=19)\n",
    "\n",
    "# Fitting the model\n",
    "knn.fit(X, Y)"
   ]
  },
  {
   "cell_type": "markdown",
   "metadata": {},
   "source": [
    "# Pickling the Model"
   ]
  },
  {
   "cell_type": "code",
   "execution_count": 4,
   "metadata": {},
   "outputs": [],
   "source": [
    "filename = 'train_walk_model.sav'\n",
    "pickle.dump(knn, open(filename, 'wb'))"
   ]
  },
  {
   "cell_type": "code",
   "execution_count": null,
   "metadata": {},
   "outputs": [],
   "source": []
  }
 ],
 "metadata": {
  "kernelspec": {
   "display_name": "Python 3",
   "language": "python",
   "name": "python3"
  },
  "language_info": {
   "codemirror_mode": {
    "name": "ipython",
    "version": 3
   },
   "file_extension": ".py",
   "mimetype": "text/x-python",
   "name": "python",
   "nbconvert_exporter": "python",
   "pygments_lexer": "ipython3",
   "version": "3.6.0"
  }
 },
 "nbformat": 4,
 "nbformat_minor": 2
}
