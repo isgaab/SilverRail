{
 "cells": [
  {
   "cell_type": "markdown",
   "metadata": {},
   "source": [
    "# Packages"
   ]
  },
  {
   "cell_type": "code",
   "execution_count": 1,
   "metadata": {},
   "outputs": [],
   "source": [
    "import warnings\n",
    "warnings.filterwarnings('ignore')\n",
    "import os\n",
    "import shutil\n",
    "\n",
    "#Data Tools\n",
    "import numpy as np\n",
    "import pandas as pd\n",
    "import math\n",
    "import itertools\n",
    "\n",
    "#Model Tools\n",
    "import sklearn\n",
    "from sklearn.model_selection import train_test_split\n",
    "from sklearn.model_selection import GridSearchCV\n",
    "from sklearn.preprocessing import LabelEncoder\n",
    "from sklearn.model_selection import KFold\n",
    "from sklearn.model_selection import cross_val_score\n",
    "from sklearn.pipeline import Pipeline\n",
    "from sklearn import svm, datasets\n",
    "from sklearn.metrics import confusion_matrix\n",
    "from sklearn.neighbors import KNeighborsClassifier\n",
    "import pickle\n",
    "\n",
    "# Visualisation\n",
    "import matplotlib as mpl\n",
    "import matplotlib.pyplot as plt\n",
    "import matplotlib.pylab as pylab\n",
    "import seaborn as sns\n"
   ]
  },
  {
   "cell_type": "markdown",
   "metadata": {},
   "source": [
    "# Data Cleaning"
   ]
  },
  {
   "cell_type": "code",
   "execution_count": 2,
   "metadata": {},
   "outputs": [],
   "source": [
    "# Read in Training Data from CSV\n",
    "df_acc = pd.read_csv(\"acc_4.csv\")\n",
    "\n",
    "#Cleaning functions\n",
    "def half_int(x):\n",
    "    val=0.5 * math.ceil(2.0 * x)\n",
    "    return val\n",
    "\n",
    "\n",
    "def cleaning(df_acc):\n",
    "    # Rename df_acc column, 'train' -> 'mode'\n",
    "    df_acc.columns = ['TI', 'TS', 'x', 'y', 'z', 'mode', 'dataset']\n",
    "\n",
    "    # Drop TS column and replace transportation mode into integer\n",
    "    df_acc = df_acc.replace({'mode': {'Bus':2, 'Train': 1, 'Walking': 0}})\n",
    "\n",
    "\n",
    "    # Convert TI value to integer\n",
    "    df_acc['TI'] = df_acc['TI'].apply(lambda x: half_int(x))\n",
    "\n",
    "    # Group by and get mean by TI as key\n",
    "    ndf_acc = df_acc.groupby(['TI', 'dataset'], as_index=False)[['x', 'y', 'z', 'mode']].mean()\n",
    "\n",
    "    # Clean filtered data\n",
    "    ndf_acc.columns = ['TI', 'dataset', 'acc_x', 'acc_y', 'acc_z', 'mode']\n",
    "\n",
    "    \n",
    "    return ndf_acc\n",
    "\n",
    "df=cleaning(df_acc)\n",
    "\n",
    "\n",
    "#Magnitude dataframe\n",
    "df['acc_magnitude']=(df['acc_x']**2+df['acc_y']**2+df['acc_z']**2)**(1/2.0)\n",
    "\n",
    "#Overlapping\n",
    "n=10\n",
    "o=5\n",
    "X=[df['acc_magnitude'].values[x:x+n] for x in range(0,len(df['acc_magnitude'])-n+1, o) if (df.iloc[x]['dataset'] == df.iloc[x+n-1]['dataset'] and df.iloc[x]['mode'] == df.iloc[x+n-1]['mode'])]\n",
    "X=np.asarray(X)\n",
    "\n",
    "Y=[df['mode'].values[x] for x in range(0,len(df['mode'])-n+1, o) if df.iloc[x]['dataset'] == df.iloc[x+n-1]['dataset'] and df.iloc[x]['mode'] == df.iloc[x+n-1]['mode']]\n",
    "Y=np.asarray(Y)"
   ]
  },
  {
   "cell_type": "markdown",
   "metadata": {},
   "source": [
    "# K - Cross Validation"
   ]
  },
  {
   "cell_type": "code",
   "execution_count": 3,
   "metadata": {},
   "outputs": [
    {
     "name": "stdout",
     "output_type": "stream",
     "text": [
      "[0.7954658759365483, 0.7983348204674858, 0.8239523292992489, 0.8185439757521283, 0.8259421110649543, 0.8239555757995216, 0.8277487797238956, 0.8302703417313981, 0.830091131419217, 0.8291911980464951, 0.8273952236042508, 0.8273903521052779, 0.8273974874116223, 0.8255882215524627, 0.8273939319983972, 0.8273874424949795, 0.8248678283876408, 0.8232426303511241, 0.8221644623648668, 0.8217956704252707, 0.8208986536571027, 0.8181946383342742, 0.8192796187254127, 0.8180154315192208, 0.8174823456830593, 0.8158564948493602, 0.8162191306783854, 0.8147750873570857, 0.8145929639374787, 0.8135115529480764]\n"
     ]
    },
    {
     "data": {
      "text/plain": [
       "7"
      ]
     },
     "execution_count": 3,
     "metadata": {},
     "output_type": "execute_result"
    }
   ],
   "source": [
    "#Search for an optimal value of K for KNN\n",
    "\n",
    "# range of k we want to try\n",
    "k_range = range(1, 31)\n",
    "# empty list to store scores\n",
    "k_scores = []\n",
    "\n",
    "# 1. we will loop through reasonable values of k\n",
    "for k in k_range:\n",
    "    # 2. run KNeighborsClassifier with k neighbours\n",
    "    knn = KNeighborsClassifier(n_neighbors=k)\n",
    "    # 3. obtain cross_val_score for KNeighborsClassifier with k neighbours\n",
    "    scores = cross_val_score(knn, X, Y, cv=10, scoring='accuracy')\n",
    "    # 4. append mean of scores for k neighbors to k_scores list\n",
    "    k_scores.append(scores.mean())\n",
    "\n",
    "\n",
    "print(k_scores)\n",
    "k_scores.index(max(k_scores))"
   ]
  },
  {
   "cell_type": "markdown",
   "metadata": {},
   "source": [
    "# Model Training"
   ]
  },
  {
   "cell_type": "code",
   "execution_count": 4,
   "metadata": {},
   "outputs": [
    {
     "data": {
      "text/plain": [
       "KNeighborsClassifier(algorithm='auto', leaf_size=30, metric='minkowski',\n",
       "           metric_params=None, n_jobs=None, n_neighbors=7, p=2,\n",
       "           weights='uniform')"
      ]
     },
     "execution_count": 4,
     "metadata": {},
     "output_type": "execute_result"
    }
   ],
   "source": [
    "# Instantiate learning model (k = 19)\n",
    "knn = KNeighborsClassifier(n_neighbors=7)\n",
    "\n",
    "# Fitting the model\n",
    "knn.fit(X, Y)"
   ]
  },
  {
   "cell_type": "markdown",
   "metadata": {},
   "source": [
    "# Pickling the Model"
   ]
  },
  {
   "cell_type": "code",
   "execution_count": 5,
   "metadata": {},
   "outputs": [],
   "source": [
    "filename = 'bus_train_walk_model.sav'\n",
    "pickle.dump(knn, open(filename, 'wb'))"
   ]
  },
  {
   "cell_type": "code",
   "execution_count": null,
   "metadata": {},
   "outputs": [],
   "source": []
  }
 ],
 "metadata": {
  "kernelspec": {
   "display_name": "Python 3",
   "language": "python",
   "name": "python3"
  },
  "language_info": {
   "codemirror_mode": {
    "name": "ipython",
    "version": 3
   },
   "file_extension": ".py",
   "mimetype": "text/x-python",
   "name": "python",
   "nbconvert_exporter": "python",
   "pygments_lexer": "ipython3",
   "version": "3.6.0"
  }
 },
 "nbformat": 4,
 "nbformat_minor": 2
}
